{
  "nbformat": 4,
  "nbformat_minor": 0,
  "metadata": {
    "colab": {
      "name": "Internet Analysis.ipynb",
      "provenance": [],
      "authorship_tag": "ABX9TyOcCIjbMpSOptjkwL7FJZH+"
    },
    "kernelspec": {
      "name": "python3",
      "display_name": "Python 3"
    },
    "language_info": {
      "name": "python"
    }
  },
  "cells": [
    {
      "cell_type": "markdown",
      "metadata": {
        "id": "8uPP0lXsVW1r"
      },
      "source": [
        "## Import Necessary Packages"
      ]
    },
    {
      "cell_type": "code",
      "metadata": {
        "id": "pdOOVeogVDJ2"
      },
      "source": [
        "import pandas as pd\n",
        "import urllib.request\n",
        "import matplotlib.pyplot as plt"
      ],
      "execution_count": 1,
      "outputs": []
    },
    {
      "cell_type": "markdown",
      "metadata": {
        "id": "n2hGakvfVxcm"
      },
      "source": [
        "## Data Cleaning"
      ]
    },
    {
      "cell_type": "code",
      "metadata": {
        "id": "pZ3SxQUkJBBe"
      },
      "source": [
        "week_days=set(['Mon','Tue','Wed','Thu','Fri','Sat','Sun'])\n",
        "clean_data={}\n",
        "index=-1"
      ],
      "execution_count": 2,
      "outputs": []
    },
    {
      "cell_type": "code",
      "metadata": {
        "id": "AXcYg3Za_1v1"
      },
      "source": [
        "# Parse log file\n",
        "log_file=urllib.request.urlopen('https://raw.githubusercontent.com/kaazima/Internet-Analysis-Project/master/statistics.log')\n",
        "for line in log_file:\n",
        "  unclean_data=line.decode(\"utf-8\")\n",
        "  if unclean_data[:3] in week_days:\n",
        "    index+=1\n",
        "    clean_data[index]={}\n",
        "    clean_data[index]['Day']=unclean_data[:3]\n",
        "    time=unclean_data.split()[3].split(':')\n",
        "    clean_data[index]['Hour']=int(time[0])\n",
        "    clean_data[index]['Min']=time[1]\n",
        "  else:\n",
        "    unclean_data=unclean_data.split(':')\n",
        "    prop=unclean_data[0].strip()\n",
        "    remain=unclean_data[1].strip()\n",
        "    if prop=='Server':\n",
        "      clean_data[index][prop]=remain.split('(')[0].strip()\n",
        "    elif prop=='Latency' and remain!='FAILED':\n",
        "      remain=remain.split('(')\n",
        "      clean_data[index][prop]=float(remain[0].strip().split()[0])\n",
        "      clean_data[index]['Jitter']=float(remain[1].split()[0])\n",
        "    elif (prop=='Download' or prop=='Upload') and remain!='FAILED':\n",
        "      clean_data[index][prop]=float(remain.split()[0])\n",
        "    elif prop=='Packet Loss' and remain!='Not available.':\n",
        "      clean_data[index][prop]=float(remain.split('%')[0])"
      ],
      "execution_count": 3,
      "outputs": []
    },
    {
      "cell_type": "markdown",
      "metadata": {
        "id": "gWyXXO4eVDTh"
      },
      "source": [
        "## Generate a DataFrame that contains Cleansed Data"
      ]
    },
    {
      "cell_type": "code",
      "metadata": {
        "id": "KltfprK6Tm-S"
      },
      "source": [
        "# Convert dictionary to pandas dataframe\n",
        "data=pd.DataFrame.from_dict(clean_data,orient ='index')"
      ],
      "execution_count": 4,
      "outputs": []
    },
    {
      "cell_type": "code",
      "metadata": {
        "colab": {
          "base_uri": "https://localhost:8080/",
          "height": 265
        },
        "id": "WNMwfCuqVqxL",
        "outputId": "8cf83226-8174-40cc-fb43-87a84e9bf735"
      },
      "source": [
        "data.head(7)"
      ],
      "execution_count": 5,
      "outputs": [
        {
          "output_type": "execute_result",
          "data": {
            "text/html": [
              "<div>\n",
              "<style scoped>\n",
              "    .dataframe tbody tr th:only-of-type {\n",
              "        vertical-align: middle;\n",
              "    }\n",
              "\n",
              "    .dataframe tbody tr th {\n",
              "        vertical-align: top;\n",
              "    }\n",
              "\n",
              "    .dataframe thead th {\n",
              "        text-align: right;\n",
              "    }\n",
              "</style>\n",
              "<table border=\"1\" class=\"dataframe\">\n",
              "  <thead>\n",
              "    <tr style=\"text-align: right;\">\n",
              "      <th></th>\n",
              "      <th>Day</th>\n",
              "      <th>Hour</th>\n",
              "      <th>Min</th>\n",
              "      <th>Server</th>\n",
              "      <th>Latency</th>\n",
              "      <th>Jitter</th>\n",
              "      <th>Download</th>\n",
              "      <th>Upload</th>\n",
              "      <th>Packet Loss</th>\n",
              "    </tr>\n",
              "  </thead>\n",
              "  <tbody>\n",
              "    <tr>\n",
              "      <th>0</th>\n",
              "      <td>Tue</td>\n",
              "      <td>12</td>\n",
              "      <td>38</td>\n",
              "      <td>Airtel Broadband - Chennai</td>\n",
              "      <td>39.54</td>\n",
              "      <td>21.98</td>\n",
              "      <td>6.63</td>\n",
              "      <td>1.41</td>\n",
              "      <td>NaN</td>\n",
              "    </tr>\n",
              "    <tr>\n",
              "      <th>1</th>\n",
              "      <td>Tue</td>\n",
              "      <td>12</td>\n",
              "      <td>40</td>\n",
              "      <td>Airgenie - Chennai</td>\n",
              "      <td>78.52</td>\n",
              "      <td>1.77</td>\n",
              "      <td>5.50</td>\n",
              "      <td>1.36</td>\n",
              "      <td>NaN</td>\n",
              "    </tr>\n",
              "    <tr>\n",
              "      <th>2</th>\n",
              "      <td>Tue</td>\n",
              "      <td>12</td>\n",
              "      <td>42</td>\n",
              "      <td>Airtel Broadband - Chennai</td>\n",
              "      <td>71.26</td>\n",
              "      <td>9.71</td>\n",
              "      <td>5.39</td>\n",
              "      <td>1.70</td>\n",
              "      <td>NaN</td>\n",
              "    </tr>\n",
              "    <tr>\n",
              "      <th>3</th>\n",
              "      <td>Tue</td>\n",
              "      <td>12</td>\n",
              "      <td>44</td>\n",
              "      <td>TataSky Broadband Private Limited - Chennai</td>\n",
              "      <td>41.48</td>\n",
              "      <td>20.52</td>\n",
              "      <td>3.24</td>\n",
              "      <td>1.05</td>\n",
              "      <td>0.0</td>\n",
              "    </tr>\n",
              "    <tr>\n",
              "      <th>4</th>\n",
              "      <td>Tue</td>\n",
              "      <td>12</td>\n",
              "      <td>46</td>\n",
              "      <td>NaN</td>\n",
              "      <td>NaN</td>\n",
              "      <td>NaN</td>\n",
              "      <td>NaN</td>\n",
              "      <td>NaN</td>\n",
              "      <td>NaN</td>\n",
              "    </tr>\n",
              "    <tr>\n",
              "      <th>5</th>\n",
              "      <td>Tue</td>\n",
              "      <td>12</td>\n",
              "      <td>48</td>\n",
              "      <td>Cherrinet - K Net Solutions Pvt Ltd - Chennai</td>\n",
              "      <td>78.04</td>\n",
              "      <td>2.55</td>\n",
              "      <td>7.99</td>\n",
              "      <td>NaN</td>\n",
              "      <td>NaN</td>\n",
              "    </tr>\n",
              "    <tr>\n",
              "      <th>6</th>\n",
              "      <td>Tue</td>\n",
              "      <td>12</td>\n",
              "      <td>50</td>\n",
              "      <td>ACT Fibernet - Chennai</td>\n",
              "      <td>42.17</td>\n",
              "      <td>19.01</td>\n",
              "      <td>5.58</td>\n",
              "      <td>1.33</td>\n",
              "      <td>0.0</td>\n",
              "    </tr>\n",
              "  </tbody>\n",
              "</table>\n",
              "</div>"
            ],
            "text/plain": [
              "   Day  Hour Min  ... Download  Upload  Packet Loss\n",
              "0  Tue    12  38  ...     6.63    1.41          NaN\n",
              "1  Tue    12  40  ...     5.50    1.36          NaN\n",
              "2  Tue    12  42  ...     5.39    1.70          NaN\n",
              "3  Tue    12  44  ...     3.24    1.05          0.0\n",
              "4  Tue    12  46  ...      NaN     NaN          NaN\n",
              "5  Tue    12  48  ...     7.99     NaN          NaN\n",
              "6  Tue    12  50  ...     5.58    1.33          0.0\n",
              "\n",
              "[7 rows x 9 columns]"
            ]
          },
          "metadata": {
            "tags": []
          },
          "execution_count": 5
        }
      ]
    },
    {
      "cell_type": "markdown",
      "metadata": {
        "id": "7A_54EHyVQ8H"
      },
      "source": [
        "## Most Connected Server"
      ]
    },
    {
      "cell_type": "code",
      "metadata": {
        "colab": {
          "base_uri": "https://localhost:8080/"
        },
        "id": "wtBLmykJRgbv",
        "outputId": "e33e893a-8145-4704-da28-9ea71309a8de"
      },
      "source": [
        "print('Number of times each server is connected is as follows:\\n')\n",
        "data['Server'].value_counts()"
      ],
      "execution_count": 6,
      "outputs": [
        {
          "output_type": "stream",
          "text": [
            "Number of times each server is connected is as follows:\n",
            "\n"
          ],
          "name": "stdout"
        },
        {
          "output_type": "execute_result",
          "data": {
            "text/plain": [
              "Airtel Broadband - Chennai                           697\n",
              "Airconnect Fibernet - Chennai                        563\n",
              "Airgenie - Chennai                                   510\n",
              "TataSky Broadband Private Limited - Chennai          406\n",
              "ACT Fibernet - Chennai                               399\n",
              "Shyam Spectra - Chennai                              399\n",
              "Sri Vari Network Private Limited - Chennai           391\n",
              "Cherrinet - K Net Solutions Pvt Ltd - Chennai        375\n",
              "Jio - Chennai                                        329\n",
              "Pulse Telesystems - Chennai                           41\n",
              "Vi India - Chennai                                    34\n",
              "Arjuntelecom - Chennai                                25\n",
              "TATASky Broadband Pvt Ltd - Bangalore                  4\n",
              "Surround Networks Pvt Ltd. - Bengaluru                 3\n",
              "JIFFY CABLE AND DATACOM - Bangalore                    3\n",
              "North East Dataa Network Pvt Ltd - Bangalore           2\n",
              "Airtel Broadband - Bangalore                           2\n",
              "I-ON - Bengaluru                                       2\n",
              "ACT Fibernet - Bangalore                               1\n",
              "Vi India - Benguluru                                   1\n",
              "TelexAir Telecom Pvt Ltd - Bangalore                   1\n",
              "Alliance Broadband Services Pvt. Ltd. - Bengaluru      1\n",
              "Name: Server, dtype: int64"
            ]
          },
          "metadata": {
            "tags": []
          },
          "execution_count": 6
        }
      ]
    },
    {
      "cell_type": "markdown",
      "metadata": {
        "id": "mLfHtfnbTrYa"
      },
      "source": [
        "*   The most connected server is **Airtel Broadband - Chennai**\n",
        "\n"
      ]
    },
    {
      "cell_type": "markdown",
      "metadata": {
        "id": "aBDTK2W0UniB"
      },
      "source": [
        "## Analysis of Network Outages"
      ]
    },
    {
      "cell_type": "code",
      "metadata": {
        "id": "wNnRd4FRxDTR"
      },
      "source": [
        "day_outages={}\n",
        "hour_outages={}"
      ],
      "execution_count": 7,
      "outputs": []
    },
    {
      "cell_type": "code",
      "metadata": {
        "id": "87ASc6fTyhR6"
      },
      "source": [
        "# Initialise the number of outages for each day to \"0\"\n",
        "for day in week_days:\n",
        "  day_outages[day]=0\n",
        "# Initialise the number of outages for each hour to \"0\"\n",
        "for hour in range(24):\n",
        "  hour_outages[hour]=0"
      ],
      "execution_count": 8,
      "outputs": []
    },
    {
      "cell_type": "code",
      "metadata": {
        "id": "-Fua2OCvVEwI"
      },
      "source": [
        "# Count the number of outages for each day, and for each hour\n",
        "for index in range(len(data)):\n",
        "  if data.loc[index].isna().sum()==6:\n",
        "    day_outages[data.loc[index]['Day']]+=1\n",
        "    hour_outages[data.loc[index]['Hour']]+=1"
      ],
      "execution_count": 9,
      "outputs": []
    },
    {
      "cell_type": "markdown",
      "metadata": {
        "id": "s4yAUkVfNgBI"
      },
      "source": [
        "##### Plot Network Outages on each day"
      ]
    },
    {
      "cell_type": "code",
      "metadata": {
        "colab": {
          "base_uri": "https://localhost:8080/"
        },
        "id": "D9_Ak7Ew45IA",
        "outputId": "6630360f-fd53-4022-9397-b0f74caa97de"
      },
      "source": [
        "# Sort day_outages in descending order\n",
        "# Here, lambda function accepts a key-value pair as an argument and returns the value field from that pair\n",
        "print(sorted(day_outages.items(),key=lambda item:item[1],reverse=True))\n",
        "# List of tuples, where each tuple corresponds to (day,no of outages)"
      ],
      "execution_count": 10,
      "outputs": [
        {
          "output_type": "stream",
          "text": [
            "[('Tue', 197), ('Sat', 172), ('Wed', 154), ('Fri', 109), ('Mon', 44), ('Sun', 4), ('Thu', 0)]\n"
          ],
          "name": "stdout"
        }
      ]
    },
    {
      "cell_type": "code",
      "metadata": {
        "colab": {
          "base_uri": "https://localhost:8080/",
          "height": 375
        },
        "id": "6iiaAQrcwlHj",
        "outputId": "b9078156-9cb0-4d9d-fd37-d592c1e301be"
      },
      "source": [
        "fig = plt.figure(figsize =(15, 5)) \n",
        "# Sort day_outages in ascending order\n",
        "day,day_outage = zip(*sorted(day_outages.items(),key=lambda item:item[1]))\n",
        "# Plotting the no of outages on each day\n",
        "plt.plot(day, day_outage, color='green', linestyle='dashed', linewidth = 1.5, marker='o', markerfacecolor='olive', markersize=8)\n",
        "# Naming the x and y axes\n",
        "plt.xlabel('Day',labelpad=10,fontsize='large')\n",
        "plt.ylabel('No of Outages',labelpad=10,fontsize='large')\n",
        "plt.title('Network Outages on each day',pad=20,fontweight='bold',fontsize=16)\n",
        "plt.show()"
      ],
      "execution_count": 11,
      "outputs": [
        {
          "output_type": "display_data",
          "data": {
            "image/png": "[encoded data removed]",
            "text/plain": [
              "<Figure size 1080x360 with 1 Axes>"
            ]
          },
          "metadata": {
            "tags": [],
            "needs_background": "light"
          }
        }
      ]
    },
    {
      "cell_type": "markdown",
      "metadata": {
        "id": "Q5sQOjBGsMgi"
      },
      "source": [
        "\n",
        "\n",
        "*   **Tuesday** had the most network outages\n",
        "*   **Thursday** had the least network outages"
      ]
    },
    {
      "cell_type": "markdown",
      "metadata": {
        "id": "Ejz0VGdpOAQz"
      },
      "source": [
        "##### Plot Network Outages for each hour"
      ]
    },
    {
      "cell_type": "code",
      "metadata": {
        "colab": {
          "base_uri": "https://localhost:8080/"
        },
        "id": "VgTT0-Cr15np",
        "outputId": "ce8ad9e9-5860-4d26-bde7-eb8910bcf4ab"
      },
      "source": [
        "# Sort hour_outages in descending order\n",
        "print(sorted(hour_outages.items(),key=lambda item:item[1],reverse=True))\n",
        "# List of tuples, where each tuple corresponds to (hour,no of outages)"
      ],
      "execution_count": 12,
      "outputs": [
        {
          "output_type": "stream",
          "text": [
            "[(8, 127), (6, 121), (5, 120), (7, 120), (4, 104), (9, 36), (14, 25), (3, 14), (13, 4), (10, 2), (21, 2), (12, 1), (15, 1), (17, 1), (19, 1), (22, 1), (0, 0), (1, 0), (2, 0), (11, 0), (16, 0), (18, 0), (20, 0), (23, 0)]\n"
          ],
          "name": "stdout"
        }
      ]
    },
    {
      "cell_type": "code",
      "metadata": {
        "colab": {
          "base_uri": "https://localhost:8080/",
          "height": 375
        },
        "id": "p_jKayPrDWYB",
        "outputId": "31374094-2d54-48a6-a00b-40a1ff39834f"
      },
      "source": [
        "fig = plt.figure(figsize =(20, 5)) \n",
        "plt.bar(hour_outages.keys(), hour_outages.values())\n",
        "plt.xticks(range(24))\n",
        "plt.xlabel('Hour',labelpad=10,fontsize='large')\n",
        "plt.ylabel('No of Outages',labelpad=10,fontsize='large')\n",
        "plt.title('Network Outages for each hour',pad=20,fontweight='bold',fontsize=16)\n",
        "plt.show()"
      ],
      "execution_count": 13,
      "outputs": [
        {
          "output_type": "display_data",
          "data": {
            "image/png": "[encoded data removed]",
            "text/plain": [
              "<Figure size 1440x360 with 1 Axes>"
            ]
          },
          "metadata": {
            "tags": [],
            "needs_background": "light"
          }
        }
      ]
    },
    {
      "cell_type": "markdown",
      "metadata": {
        "id": "SJOLkUuqOOhd"
      },
      "source": [
        "\n",
        "*   **08:00** had the most network outages\n",
        "*   **00:00, 01:00, 02:00, 11:00, 16:00, 18:00, 20:00, 23:00** had the least network outages"
      ]
    },
    {
      "cell_type": "markdown",
      "metadata": {
        "id": "OwcTjq4xI9Pv"
      },
      "source": [
        "## Analysis of Days"
      ]
    },
    {
      "cell_type": "code",
      "metadata": {
        "colab": {
          "base_uri": "https://localhost:8080/",
          "height": 295
        },
        "id": "kxx5sXZ4JAjj",
        "outputId": "35401c58-0475-416e-da51-543939680b43"
      },
      "source": [
        "day_analytics=data.groupby('Day').agg(dict.fromkeys(['Latency','Jitter','Download','Upload','Packet Loss'], 'mean'))\n",
        "display(day_analytics)"
      ],
      "execution_count": 14,
      "outputs": [
        {
          "output_type": "display_data",
          "data": {
            "text/html": [
              "<div>\n",
              "<style scoped>\n",
              "    .dataframe tbody tr th:only-of-type {\n",
              "        vertical-align: middle;\n",
              "    }\n",
              "\n",
              "    .dataframe tbody tr th {\n",
              "        vertical-align: top;\n",
              "    }\n",
              "\n",
              "    .dataframe thead th {\n",
              "        text-align: right;\n",
              "    }\n",
              "</style>\n",
              "<table border=\"1\" class=\"dataframe\">\n",
              "  <thead>\n",
              "    <tr style=\"text-align: right;\">\n",
              "      <th></th>\n",
              "      <th>Latency</th>\n",
              "      <th>Jitter</th>\n",
              "      <th>Download</th>\n",
              "      <th>Upload</th>\n",
              "      <th>Packet Loss</th>\n",
              "    </tr>\n",
              "    <tr>\n",
              "      <th>Day</th>\n",
              "      <th></th>\n",
              "      <th></th>\n",
              "      <th></th>\n",
              "      <th></th>\n",
              "      <th></th>\n",
              "    </tr>\n",
              "  </thead>\n",
              "  <tbody>\n",
              "    <tr>\n",
              "      <th>Fri</th>\n",
              "      <td>52.961620</td>\n",
              "      <td>20.997136</td>\n",
              "      <td>8.004036</td>\n",
              "      <td>2.756242</td>\n",
              "      <td>0.470609</td>\n",
              "    </tr>\n",
              "    <tr>\n",
              "      <th>Mon</th>\n",
              "      <td>58.219631</td>\n",
              "      <td>23.128190</td>\n",
              "      <td>7.660689</td>\n",
              "      <td>2.515389</td>\n",
              "      <td>0.611200</td>\n",
              "    </tr>\n",
              "    <tr>\n",
              "      <th>Sat</th>\n",
              "      <td>55.748619</td>\n",
              "      <td>20.791786</td>\n",
              "      <td>6.527937</td>\n",
              "      <td>2.548120</td>\n",
              "      <td>0.461600</td>\n",
              "    </tr>\n",
              "    <tr>\n",
              "      <th>Sun</th>\n",
              "      <td>52.356850</td>\n",
              "      <td>23.817102</td>\n",
              "      <td>9.675877</td>\n",
              "      <td>2.759493</td>\n",
              "      <td>0.525000</td>\n",
              "    </tr>\n",
              "    <tr>\n",
              "      <th>Thu</th>\n",
              "      <td>49.666064</td>\n",
              "      <td>21.427622</td>\n",
              "      <td>8.140542</td>\n",
              "      <td>2.465850</td>\n",
              "      <td>0.419512</td>\n",
              "    </tr>\n",
              "    <tr>\n",
              "      <th>Tue</th>\n",
              "      <td>59.416636</td>\n",
              "      <td>19.883309</td>\n",
              "      <td>6.998529</td>\n",
              "      <td>2.528876</td>\n",
              "      <td>0.457384</td>\n",
              "    </tr>\n",
              "    <tr>\n",
              "      <th>Wed</th>\n",
              "      <td>52.353893</td>\n",
              "      <td>23.741643</td>\n",
              "      <td>7.022612</td>\n",
              "      <td>2.381009</td>\n",
              "      <td>0.553361</td>\n",
              "    </tr>\n",
              "  </tbody>\n",
              "</table>\n",
              "</div>"
            ],
            "text/plain": [
              "       Latency     Jitter  Download    Upload  Packet Loss\n",
              "Day                                                       \n",
              "Fri  52.961620  20.997136  8.004036  2.756242     0.470609\n",
              "Mon  58.219631  23.128190  7.660689  2.515389     0.611200\n",
              "Sat  55.748619  20.791786  6.527937  2.548120     0.461600\n",
              "Sun  52.356850  23.817102  9.675877  2.759493     0.525000\n",
              "Thu  49.666064  21.427622  8.140542  2.465850     0.419512\n",
              "Tue  59.416636  19.883309  6.998529  2.528876     0.457384\n",
              "Wed  52.353893  23.741643  7.022612  2.381009     0.553361"
            ]
          },
          "metadata": {
            "tags": []
          }
        }
      ]
    },
    {
      "cell_type": "code",
      "metadata": {
        "colab": {
          "base_uri": "https://localhost:8080/",
          "height": 203
        },
        "id": "YzhE4h2sLRrY",
        "outputId": "afb44cd4-aec3-4f3d-d465-fb7416a186fb"
      },
      "source": [
        "display(pd.DataFrame({'Minimum':day_analytics.idxmin(),'Maximum':day_analytics.idxmax()}))"
      ],
      "execution_count": 15,
      "outputs": [
        {
          "output_type": "display_data",
          "data": {
            "text/html": [
              "<div>\n",
              "<style scoped>\n",
              "    .dataframe tbody tr th:only-of-type {\n",
              "        vertical-align: middle;\n",
              "    }\n",
              "\n",
              "    .dataframe tbody tr th {\n",
              "        vertical-align: top;\n",
              "    }\n",
              "\n",
              "    .dataframe thead th {\n",
              "        text-align: right;\n",
              "    }\n",
              "</style>\n",
              "<table border=\"1\" class=\"dataframe\">\n",
              "  <thead>\n",
              "    <tr style=\"text-align: right;\">\n",
              "      <th></th>\n",
              "      <th>Minimum</th>\n",
              "      <th>Maximum</th>\n",
              "    </tr>\n",
              "  </thead>\n",
              "  <tbody>\n",
              "    <tr>\n",
              "      <th>Latency</th>\n",
              "      <td>Thu</td>\n",
              "      <td>Tue</td>\n",
              "    </tr>\n",
              "    <tr>\n",
              "      <th>Jitter</th>\n",
              "      <td>Tue</td>\n",
              "      <td>Sun</td>\n",
              "    </tr>\n",
              "    <tr>\n",
              "      <th>Download</th>\n",
              "      <td>Sat</td>\n",
              "      <td>Sun</td>\n",
              "    </tr>\n",
              "    <tr>\n",
              "      <th>Upload</th>\n",
              "      <td>Wed</td>\n",
              "      <td>Sun</td>\n",
              "    </tr>\n",
              "    <tr>\n",
              "      <th>Packet Loss</th>\n",
              "      <td>Thu</td>\n",
              "      <td>Mon</td>\n",
              "    </tr>\n",
              "  </tbody>\n",
              "</table>\n",
              "</div>"
            ],
            "text/plain": [
              "            Minimum Maximum\n",
              "Latency         Thu     Tue\n",
              "Jitter          Tue     Sun\n",
              "Download        Sat     Sun\n",
              "Upload          Wed     Sun\n",
              "Packet Loss     Thu     Mon"
            ]
          },
          "metadata": {
            "tags": []
          }
        }
      ]
    },
    {
      "cell_type": "markdown",
      "metadata": {
        "id": "2ctipSmfJG-s"
      },
      "source": [
        "## Analysis of Hours"
      ]
    },
    {
      "cell_type": "code",
      "metadata": {
        "colab": {
          "base_uri": "https://localhost:8080/",
          "height": 819
        },
        "id": "symy6xvCJJ3X",
        "outputId": "f2f0aed3-f72c-4b7f-f7c8-db5c0c965295"
      },
      "source": [
        "hour_analytics=data.groupby('Hour').agg(dict.fromkeys(['Latency','Jitter','Download','Upload','Packet Loss'], 'mean'))\n",
        "display(hour_analytics)"
      ],
      "execution_count": 16,
      "outputs": [
        {
          "output_type": "display_data",
          "data": {
            "text/html": [
              "<div>\n",
              "<style scoped>\n",
              "    .dataframe tbody tr th:only-of-type {\n",
              "        vertical-align: middle;\n",
              "    }\n",
              "\n",
              "    .dataframe tbody tr th {\n",
              "        vertical-align: top;\n",
              "    }\n",
              "\n",
              "    .dataframe thead th {\n",
              "        text-align: right;\n",
              "    }\n",
              "</style>\n",
              "<table border=\"1\" class=\"dataframe\">\n",
              "  <thead>\n",
              "    <tr style=\"text-align: right;\">\n",
              "      <th></th>\n",
              "      <th>Latency</th>\n",
              "      <th>Jitter</th>\n",
              "      <th>Download</th>\n",
              "      <th>Upload</th>\n",
              "      <th>Packet Loss</th>\n",
              "    </tr>\n",
              "    <tr>\n",
              "      <th>Hour</th>\n",
              "      <th></th>\n",
              "      <th></th>\n",
              "      <th></th>\n",
              "      <th></th>\n",
              "      <th></th>\n",
              "    </tr>\n",
              "  </thead>\n",
              "  <tbody>\n",
              "    <tr>\n",
              "      <th>0</th>\n",
              "      <td>46.955333</td>\n",
              "      <td>20.731524</td>\n",
              "      <td>9.157788</td>\n",
              "      <td>3.968164</td>\n",
              "      <td>0.249412</td>\n",
              "    </tr>\n",
              "    <tr>\n",
              "      <th>1</th>\n",
              "      <td>44.729619</td>\n",
              "      <td>21.570000</td>\n",
              "      <td>12.671238</td>\n",
              "      <td>4.441714</td>\n",
              "      <td>0.443750</td>\n",
              "    </tr>\n",
              "    <tr>\n",
              "      <th>2</th>\n",
              "      <td>45.661095</td>\n",
              "      <td>21.347857</td>\n",
              "      <td>16.493238</td>\n",
              "      <td>4.926286</td>\n",
              "      <td>0.434783</td>\n",
              "    </tr>\n",
              "    <tr>\n",
              "      <th>3</th>\n",
              "      <td>45.897755</td>\n",
              "      <td>21.215459</td>\n",
              "      <td>18.220000</td>\n",
              "      <td>4.883246</td>\n",
              "      <td>0.629487</td>\n",
              "    </tr>\n",
              "    <tr>\n",
              "      <th>4</th>\n",
              "      <td>46.044848</td>\n",
              "      <td>18.794343</td>\n",
              "      <td>19.402396</td>\n",
              "      <td>4.650000</td>\n",
              "      <td>0.411364</td>\n",
              "    </tr>\n",
              "    <tr>\n",
              "      <th>5</th>\n",
              "      <td>48.496667</td>\n",
              "      <td>20.708167</td>\n",
              "      <td>17.677500</td>\n",
              "      <td>3.759667</td>\n",
              "      <td>0.508696</td>\n",
              "    </tr>\n",
              "    <tr>\n",
              "      <th>6</th>\n",
              "      <td>45.156034</td>\n",
              "      <td>21.433966</td>\n",
              "      <td>12.905690</td>\n",
              "      <td>3.888793</td>\n",
              "      <td>0.068421</td>\n",
              "    </tr>\n",
              "    <tr>\n",
              "      <th>7</th>\n",
              "      <td>47.503051</td>\n",
              "      <td>21.302203</td>\n",
              "      <td>10.699153</td>\n",
              "      <td>3.275254</td>\n",
              "      <td>1.296000</td>\n",
              "    </tr>\n",
              "    <tr>\n",
              "      <th>8</th>\n",
              "      <td>44.804933</td>\n",
              "      <td>27.014400</td>\n",
              "      <td>8.212000</td>\n",
              "      <td>2.800933</td>\n",
              "      <td>0.118750</td>\n",
              "    </tr>\n",
              "    <tr>\n",
              "      <th>9</th>\n",
              "      <td>65.380621</td>\n",
              "      <td>22.931429</td>\n",
              "      <td>6.724750</td>\n",
              "      <td>2.055597</td>\n",
              "      <td>0.612000</td>\n",
              "    </tr>\n",
              "    <tr>\n",
              "      <th>10</th>\n",
              "      <td>59.022383</td>\n",
              "      <td>23.952850</td>\n",
              "      <td>6.219895</td>\n",
              "      <td>1.665211</td>\n",
              "      <td>0.385714</td>\n",
              "    </tr>\n",
              "    <tr>\n",
              "      <th>11</th>\n",
              "      <td>62.807619</td>\n",
              "      <td>26.976571</td>\n",
              "      <td>5.536746</td>\n",
              "      <td>1.776912</td>\n",
              "      <td>0.468132</td>\n",
              "    </tr>\n",
              "    <tr>\n",
              "      <th>12</th>\n",
              "      <td>56.899087</td>\n",
              "      <td>21.805982</td>\n",
              "      <td>5.694110</td>\n",
              "      <td>1.993211</td>\n",
              "      <td>0.933696</td>\n",
              "    </tr>\n",
              "    <tr>\n",
              "      <th>13</th>\n",
              "      <td>59.094074</td>\n",
              "      <td>25.005648</td>\n",
              "      <td>4.998698</td>\n",
              "      <td>1.952279</td>\n",
              "      <td>0.485437</td>\n",
              "    </tr>\n",
              "    <tr>\n",
              "      <th>14</th>\n",
              "      <td>53.412295</td>\n",
              "      <td>18.288142</td>\n",
              "      <td>5.465110</td>\n",
              "      <td>1.773799</td>\n",
              "      <td>0.230233</td>\n",
              "    </tr>\n",
              "    <tr>\n",
              "      <th>15</th>\n",
              "      <td>58.612488</td>\n",
              "      <td>22.403923</td>\n",
              "      <td>6.199808</td>\n",
              "      <td>1.818454</td>\n",
              "      <td>0.596471</td>\n",
              "    </tr>\n",
              "    <tr>\n",
              "      <th>16</th>\n",
              "      <td>50.994545</td>\n",
              "      <td>19.825024</td>\n",
              "      <td>5.990287</td>\n",
              "      <td>2.131298</td>\n",
              "      <td>0.346939</td>\n",
              "    </tr>\n",
              "    <tr>\n",
              "      <th>17</th>\n",
              "      <td>56.522392</td>\n",
              "      <td>23.160048</td>\n",
              "      <td>5.962404</td>\n",
              "      <td>1.936058</td>\n",
              "      <td>0.443878</td>\n",
              "    </tr>\n",
              "    <tr>\n",
              "      <th>18</th>\n",
              "      <td>57.942722</td>\n",
              "      <td>18.874000</td>\n",
              "      <td>5.587640</td>\n",
              "      <td>1.703989</td>\n",
              "      <td>0.738824</td>\n",
              "    </tr>\n",
              "    <tr>\n",
              "      <th>19</th>\n",
              "      <td>58.686077</td>\n",
              "      <td>19.902320</td>\n",
              "      <td>4.306556</td>\n",
              "      <td>1.709609</td>\n",
              "      <td>0.675949</td>\n",
              "    </tr>\n",
              "    <tr>\n",
              "      <th>20</th>\n",
              "      <td>59.575000</td>\n",
              "      <td>23.618606</td>\n",
              "      <td>4.969952</td>\n",
              "      <td>1.468195</td>\n",
              "      <td>0.624468</td>\n",
              "    </tr>\n",
              "    <tr>\n",
              "      <th>21</th>\n",
              "      <td>56.465625</td>\n",
              "      <td>19.137260</td>\n",
              "      <td>4.263092</td>\n",
              "      <td>1.492864</td>\n",
              "      <td>0.808247</td>\n",
              "    </tr>\n",
              "    <tr>\n",
              "      <th>22</th>\n",
              "      <td>58.492788</td>\n",
              "      <td>19.065577</td>\n",
              "      <td>3.598413</td>\n",
              "      <td>1.749519</td>\n",
              "      <td>0.323000</td>\n",
              "    </tr>\n",
              "    <tr>\n",
              "      <th>23</th>\n",
              "      <td>48.017333</td>\n",
              "      <td>27.329905</td>\n",
              "      <td>4.632762</td>\n",
              "      <td>2.970429</td>\n",
              "      <td>0.119388</td>\n",
              "    </tr>\n",
              "  </tbody>\n",
              "</table>\n",
              "</div>"
            ],
            "text/plain": [
              "        Latency     Jitter   Download    Upload  Packet Loss\n",
              "Hour                                                        \n",
              "0     46.955333  20.731524   9.157788  3.968164     0.249412\n",
              "1     44.729619  21.570000  12.671238  4.441714     0.443750\n",
              "2     45.661095  21.347857  16.493238  4.926286     0.434783\n",
              "3     45.897755  21.215459  18.220000  4.883246     0.629487\n",
              "4     46.044848  18.794343  19.402396  4.650000     0.411364\n",
              "5     48.496667  20.708167  17.677500  3.759667     0.508696\n",
              "6     45.156034  21.433966  12.905690  3.888793     0.068421\n",
              "7     47.503051  21.302203  10.699153  3.275254     1.296000\n",
              "8     44.804933  27.014400   8.212000  2.800933     0.118750\n",
              "9     65.380621  22.931429   6.724750  2.055597     0.612000\n",
              "10    59.022383  23.952850   6.219895  1.665211     0.385714\n",
              "11    62.807619  26.976571   5.536746  1.776912     0.468132\n",
              "12    56.899087  21.805982   5.694110  1.993211     0.933696\n",
              "13    59.094074  25.005648   4.998698  1.952279     0.485437\n",
              "14    53.412295  18.288142   5.465110  1.773799     0.230233\n",
              "15    58.612488  22.403923   6.199808  1.818454     0.596471\n",
              "16    50.994545  19.825024   5.990287  2.131298     0.346939\n",
              "17    56.522392  23.160048   5.962404  1.936058     0.443878\n",
              "18    57.942722  18.874000   5.587640  1.703989     0.738824\n",
              "19    58.686077  19.902320   4.306556  1.709609     0.675949\n",
              "20    59.575000  23.618606   4.969952  1.468195     0.624468\n",
              "21    56.465625  19.137260   4.263092  1.492864     0.808247\n",
              "22    58.492788  19.065577   3.598413  1.749519     0.323000\n",
              "23    48.017333  27.329905   4.632762  2.970429     0.119388"
            ]
          },
          "metadata": {
            "tags": []
          }
        }
      ]
    },
    {
      "cell_type": "code",
      "metadata": {
        "colab": {
          "base_uri": "https://localhost:8080/",
          "height": 203
        },
        "id": "xMhg9qmCNP0P",
        "outputId": "f59c63e4-0fda-47c2-da75-26db18d2ccc8"
      },
      "source": [
        "display(pd.DataFrame({'Minimum at':hour_analytics.idxmin(),'Maximum at':hour_analytics.idxmax()}))"
      ],
      "execution_count": 22,
      "outputs": [
        {
          "output_type": "display_data",
          "data": {
            "text/html": [
              "<div>\n",
              "<style scoped>\n",
              "    .dataframe tbody tr th:only-of-type {\n",
              "        vertical-align: middle;\n",
              "    }\n",
              "\n",
              "    .dataframe tbody tr th {\n",
              "        vertical-align: top;\n",
              "    }\n",
              "\n",
              "    .dataframe thead th {\n",
              "        text-align: right;\n",
              "    }\n",
              "</style>\n",
              "<table border=\"1\" class=\"dataframe\">\n",
              "  <thead>\n",
              "    <tr style=\"text-align: right;\">\n",
              "      <th></th>\n",
              "      <th>Minimum at</th>\n",
              "      <th>Maximum at</th>\n",
              "    </tr>\n",
              "  </thead>\n",
              "  <tbody>\n",
              "    <tr>\n",
              "      <th>Latency</th>\n",
              "      <td>1</td>\n",
              "      <td>9</td>\n",
              "    </tr>\n",
              "    <tr>\n",
              "      <th>Jitter</th>\n",
              "      <td>14</td>\n",
              "      <td>23</td>\n",
              "    </tr>\n",
              "    <tr>\n",
              "      <th>Download</th>\n",
              "      <td>22</td>\n",
              "      <td>4</td>\n",
              "    </tr>\n",
              "    <tr>\n",
              "      <th>Upload</th>\n",
              "      <td>20</td>\n",
              "      <td>2</td>\n",
              "    </tr>\n",
              "    <tr>\n",
              "      <th>Packet Loss</th>\n",
              "      <td>6</td>\n",
              "      <td>7</td>\n",
              "    </tr>\n",
              "  </tbody>\n",
              "</table>\n",
              "</div>"
            ],
            "text/plain": [
              "             Minimum at  Maximum at\n",
              "Latency               1           9\n",
              "Jitter               14          23\n",
              "Download             22           4\n",
              "Upload               20           2\n",
              "Packet Loss           6           7"
            ]
          },
          "metadata": {
            "tags": []
          }
        }
      ]
    }
  ]
}