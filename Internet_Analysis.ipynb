{
  "nbformat": 4,
  "nbformat_minor": 0,
  "metadata": {
    "colab": {
      "name": "Internet Analysis.ipynb",
      "provenance": [],
      "authorship_tag": "ABX9TyNlHeiwzWDOyO2ZGwL0/flj"
    },
    "kernelspec": {
      "name": "python3",
      "display_name": "Python 3"
    },
    "language_info": {
      "name": "python"
    }
  },
  "cells": [
    {
      "cell_type": "markdown",
      "metadata": {
        "id": "8uPP0lXsVW1r"
      },
      "source": [
        "## Import Necessary Packages"
      ]
    },
    {
      "cell_type": "code",
      "metadata": {
        "id": "pdOOVeogVDJ2"
      },
      "source": [
        "import pandas as pd\n",
        "import urllib.request"
      ],
      "execution_count": null,
      "outputs": []
    },
    {
      "cell_type": "markdown",
      "metadata": {
        "id": "n2hGakvfVxcm"
      },
      "source": [
        "## Data Cleaning"
      ]
    },
    {
      "cell_type": "code",
      "metadata": {
        "id": "pZ3SxQUkJBBe"
      },
      "source": [
        "week_days=set(['Mon','Tue','Wed','Thu','Fri','Sat','Sun'])\n",
        "clean_data={}\n",
        "index=-1"
      ],
      "execution_count": null,
      "outputs": []
    },
    {
      "cell_type": "code",
      "metadata": {
        "id": "AXcYg3Za_1v1"
      },
      "source": [
        "# Parse log file\n",
        "log_file=urllib.request.urlopen('https://raw.githubusercontent.com/kaazima/Internet-Analysis-Project/master/statistics.log')\n",
        "for line in log_file:\n",
        "  unclean_data=line.decode(\"utf-8\")\n",
        "  if unclean_data[:3] in week_days:\n",
        "    index+=1\n",
        "    clean_data[index]={}\n",
        "    clean_data[index]['Day']=unclean_data[:3]\n",
        "    time=unclean_data.split()[3].split(':')\n",
        "    clean_data[index]['Hour']=int(time[0])\n",
        "    clean_data[index]['Min']=int(time[1])\n",
        "  else:\n",
        "    unclean_data=unclean_data.split(':')\n",
        "    prop=unclean_data[0].strip()\n",
        "    remain=unclean_data[1].strip()\n",
        "    if prop=='Server':\n",
        "      clean_data[index][prop]=remain.split('(')[0].strip()\n",
        "    elif prop=='Latency' and remain!='FAILED':\n",
        "      remain=remain.split('(')\n",
        "      clean_data[index][prop]=float(remain[0].strip().split()[0])\n",
        "      clean_data[index]['Jitter']=float(remain[1].split()[0])\n",
        "    elif (prop=='Download' or prop=='Upload') and remain!='FAILED':\n",
        "      clean_data[index][prop]=float(remain.split()[0])\n",
        "    elif prop=='Packet Loss' and remain!='Not available.':\n",
        "      clean_data[index][prop]=float(remain.split('%')[0])"
      ],
      "execution_count": null,
      "outputs": []
    },
    {
      "cell_type": "markdown",
      "metadata": {
        "id": "gWyXXO4eVDTh"
      },
      "source": [
        "## Generate a DataFrame that contains Cleansed Data"
      ]
    },
    {
      "cell_type": "code",
      "metadata": {
        "id": "KltfprK6Tm-S"
      },
      "source": [
        "# Convert dictionary to pandas dataframe\n",
        "data=pd.DataFrame.from_dict(clean_data,orient ='index')"
      ],
      "execution_count": null,
      "outputs": []
    },
    {
      "cell_type": "code",
      "metadata": {
        "colab": {
          "base_uri": "https://localhost:8080/",
          "height": 265
        },
        "id": "WNMwfCuqVqxL",
        "outputId": "4a4528e0-9704-4f4e-f52a-7c039d8bacbd"
      },
      "source": [
        "data.head(7)"
      ],
      "execution_count": null,
      "outputs": [
        {
          "output_type": "execute_result",
          "data": {
            "text/html": [
              "<div>\n",
              "<style scoped>\n",
              "    .dataframe tbody tr th:only-of-type {\n",
              "        vertical-align: middle;\n",
              "    }\n",
              "\n",
              "    .dataframe tbody tr th {\n",
              "        vertical-align: top;\n",
              "    }\n",
              "\n",
              "    .dataframe thead th {\n",
              "        text-align: right;\n",
              "    }\n",
              "</style>\n",
              "<table border=\"1\" class=\"dataframe\">\n",
              "  <thead>\n",
              "    <tr style=\"text-align: right;\">\n",
              "      <th></th>\n",
              "      <th>Day</th>\n",
              "      <th>Hour</th>\n",
              "      <th>Min</th>\n",
              "      <th>Server</th>\n",
              "      <th>Latency</th>\n",
              "      <th>Jitter</th>\n",
              "      <th>Download</th>\n",
              "      <th>Upload</th>\n",
              "      <th>Packet Loss</th>\n",
              "    </tr>\n",
              "  </thead>\n",
              "  <tbody>\n",
              "    <tr>\n",
              "      <th>0</th>\n",
              "      <td>Tue</td>\n",
              "      <td>12</td>\n",
              "      <td>38</td>\n",
              "      <td>Airtel Broadband - Chennai</td>\n",
              "      <td>39.54</td>\n",
              "      <td>21.98</td>\n",
              "      <td>6.63</td>\n",
              "      <td>1.41</td>\n",
              "      <td>NaN</td>\n",
              "    </tr>\n",
              "    <tr>\n",
              "      <th>1</th>\n",
              "      <td>Tue</td>\n",
              "      <td>12</td>\n",
              "      <td>40</td>\n",
              "      <td>Airgenie - Chennai</td>\n",
              "      <td>78.52</td>\n",
              "      <td>1.77</td>\n",
              "      <td>5.50</td>\n",
              "      <td>1.36</td>\n",
              "      <td>NaN</td>\n",
              "    </tr>\n",
              "    <tr>\n",
              "      <th>2</th>\n",
              "      <td>Tue</td>\n",
              "      <td>12</td>\n",
              "      <td>42</td>\n",
              "      <td>Airtel Broadband - Chennai</td>\n",
              "      <td>71.26</td>\n",
              "      <td>9.71</td>\n",
              "      <td>5.39</td>\n",
              "      <td>1.70</td>\n",
              "      <td>NaN</td>\n",
              "    </tr>\n",
              "    <tr>\n",
              "      <th>3</th>\n",
              "      <td>Tue</td>\n",
              "      <td>12</td>\n",
              "      <td>44</td>\n",
              "      <td>TataSky Broadband Private Limited - Chennai</td>\n",
              "      <td>41.48</td>\n",
              "      <td>20.52</td>\n",
              "      <td>3.24</td>\n",
              "      <td>1.05</td>\n",
              "      <td>0.0</td>\n",
              "    </tr>\n",
              "    <tr>\n",
              "      <th>4</th>\n",
              "      <td>Tue</td>\n",
              "      <td>12</td>\n",
              "      <td>46</td>\n",
              "      <td>NaN</td>\n",
              "      <td>NaN</td>\n",
              "      <td>NaN</td>\n",
              "      <td>NaN</td>\n",
              "      <td>NaN</td>\n",
              "      <td>NaN</td>\n",
              "    </tr>\n",
              "    <tr>\n",
              "      <th>5</th>\n",
              "      <td>Tue</td>\n",
              "      <td>12</td>\n",
              "      <td>48</td>\n",
              "      <td>Cherrinet - K Net Solutions Pvt Ltd - Chennai</td>\n",
              "      <td>78.04</td>\n",
              "      <td>2.55</td>\n",
              "      <td>7.99</td>\n",
              "      <td>NaN</td>\n",
              "      <td>NaN</td>\n",
              "    </tr>\n",
              "    <tr>\n",
              "      <th>6</th>\n",
              "      <td>Tue</td>\n",
              "      <td>12</td>\n",
              "      <td>50</td>\n",
              "      <td>ACT Fibernet - Chennai</td>\n",
              "      <td>42.17</td>\n",
              "      <td>19.01</td>\n",
              "      <td>5.58</td>\n",
              "      <td>1.33</td>\n",
              "      <td>0.0</td>\n",
              "    </tr>\n",
              "  </tbody>\n",
              "</table>\n",
              "</div>"
            ],
            "text/plain": [
              "   Day  Hour  Min  ... Download  Upload  Packet Loss\n",
              "0  Tue    12   38  ...     6.63    1.41          NaN\n",
              "1  Tue    12   40  ...     5.50    1.36          NaN\n",
              "2  Tue    12   42  ...     5.39    1.70          NaN\n",
              "3  Tue    12   44  ...     3.24    1.05          0.0\n",
              "4  Tue    12   46  ...      NaN     NaN          NaN\n",
              "5  Tue    12   48  ...     7.99     NaN          NaN\n",
              "6  Tue    12   50  ...     5.58    1.33          0.0\n",
              "\n",
              "[7 rows x 9 columns]"
            ]
          },
          "metadata": {
            "tags": []
          },
          "execution_count": 16
        }
      ]
    }
  ]
}