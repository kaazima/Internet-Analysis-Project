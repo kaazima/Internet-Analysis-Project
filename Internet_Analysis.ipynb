{
  "nbformat": 4,
  "nbformat_minor": 0,
  "metadata": {
    "colab": {
      "name": "Internet Analysis.ipynb",
      "provenance": [],
      "authorship_tag": "ABX9TyMJ2yp33SRj8dXZkF6b9muB"
    },
    "kernelspec": {
      "name": "python3",
      "display_name": "Python 3"
    },
    "language_info": {
      "name": "python"
    }
  },
  "cells": [
    {
      "cell_type": "markdown",
      "metadata": {
        "id": "8uPP0lXsVW1r"
      },
      "source": [
        "## Import Necessary Packages"
      ]
    },
    {
      "cell_type": "code",
      "metadata": {
        "id": "pdOOVeogVDJ2"
      },
      "source": [
        "import pandas as pd\n",
        "import urllib.request\n",
        "import matplotlib.pyplot as plt"
      ],
      "execution_count": 1,
      "outputs": []
    },
    {
      "cell_type": "markdown",
      "metadata": {
        "id": "n2hGakvfVxcm"
      },
      "source": [
        "## Data Cleaning"
      ]
    },
    {
      "cell_type": "code",
      "metadata": {
        "id": "pZ3SxQUkJBBe"
      },
      "source": [
        "week_days=set(['Mon','Tue','Wed','Thu','Fri','Sat','Sun'])\n",
        "clean_data={}\n",
        "index=-1"
      ],
      "execution_count": 2,
      "outputs": []
    },
    {
      "cell_type": "code",
      "metadata": {
        "id": "AXcYg3Za_1v1"
      },
      "source": [
        "# Parse log file\n",
        "log_file=urllib.request.urlopen('https://raw.githubusercontent.com/kaazima/Internet-Analysis-Project/master/statistics.log')\n",
        "for line in log_file:\n",
        "  unclean_data=line.decode(\"utf-8\")\n",
        "  if unclean_data[:3] in week_days:\n",
        "    index+=1\n",
        "    clean_data[index]={}\n",
        "    clean_data[index]['Day']=unclean_data[:3]\n",
        "    time=unclean_data.split()[3].split(':')\n",
        "    clean_data[index]['Hour']=int(time[0])\n",
        "    clean_data[index]['Min']=int(time[1])\n",
        "  else:\n",
        "    unclean_data=unclean_data.split(':')\n",
        "    prop=unclean_data[0].strip()\n",
        "    remain=unclean_data[1].strip()\n",
        "    if prop=='Server':\n",
        "      clean_data[index][prop]=remain.split('(')[0].strip()\n",
        "    elif prop=='Latency' and remain!='FAILED':\n",
        "      remain=remain.split('(')\n",
        "      clean_data[index][prop]=float(remain[0].strip().split()[0])\n",
        "      clean_data[index]['Jitter']=float(remain[1].split()[0])\n",
        "    elif (prop=='Download' or prop=='Upload') and remain!='FAILED':\n",
        "      clean_data[index][prop]=float(remain.split()[0])\n",
        "    elif prop=='Packet Loss' and remain!='Not available.':\n",
        "      clean_data[index][prop]=float(remain.split('%')[0])"
      ],
      "execution_count": 3,
      "outputs": []
    },
    {
      "cell_type": "markdown",
      "metadata": {
        "id": "gWyXXO4eVDTh"
      },
      "source": [
        "## Generate a DataFrame that contains Cleansed Data"
      ]
    },
    {
      "cell_type": "code",
      "metadata": {
        "id": "KltfprK6Tm-S"
      },
      "source": [
        "# Convert dictionary to pandas dataframe\n",
        "data=pd.DataFrame.from_dict(clean_data,orient ='index')"
      ],
      "execution_count": 4,
      "outputs": []
    },
    {
      "cell_type": "code",
      "metadata": {
        "colab": {
          "base_uri": "https://localhost:8080/",
          "height": 265
        },
        "id": "WNMwfCuqVqxL",
        "outputId": "a8626a3a-7a03-4ba5-a561-395ca8fb347f"
      },
      "source": [
        "data.head(7)"
      ],
      "execution_count": 5,
      "outputs": [
        {
          "output_type": "execute_result",
          "data": {
            "text/html": [
              "<div>\n",
              "<style scoped>\n",
              "    .dataframe tbody tr th:only-of-type {\n",
              "        vertical-align: middle;\n",
              "    }\n",
              "\n",
              "    .dataframe tbody tr th {\n",
              "        vertical-align: top;\n",
              "    }\n",
              "\n",
              "    .dataframe thead th {\n",
              "        text-align: right;\n",
              "    }\n",
              "</style>\n",
              "<table border=\"1\" class=\"dataframe\">\n",
              "  <thead>\n",
              "    <tr style=\"text-align: right;\">\n",
              "      <th></th>\n",
              "      <th>Day</th>\n",
              "      <th>Hour</th>\n",
              "      <th>Min</th>\n",
              "      <th>Server</th>\n",
              "      <th>Latency</th>\n",
              "      <th>Jitter</th>\n",
              "      <th>Download</th>\n",
              "      <th>Upload</th>\n",
              "      <th>Packet Loss</th>\n",
              "    </tr>\n",
              "  </thead>\n",
              "  <tbody>\n",
              "    <tr>\n",
              "      <th>0</th>\n",
              "      <td>Tue</td>\n",
              "      <td>12</td>\n",
              "      <td>38</td>\n",
              "      <td>Airtel Broadband - Chennai</td>\n",
              "      <td>39.54</td>\n",
              "      <td>21.98</td>\n",
              "      <td>6.63</td>\n",
              "      <td>1.41</td>\n",
              "      <td>NaN</td>\n",
              "    </tr>\n",
              "    <tr>\n",
              "      <th>1</th>\n",
              "      <td>Tue</td>\n",
              "      <td>12</td>\n",
              "      <td>40</td>\n",
              "      <td>Airgenie - Chennai</td>\n",
              "      <td>78.52</td>\n",
              "      <td>1.77</td>\n",
              "      <td>5.50</td>\n",
              "      <td>1.36</td>\n",
              "      <td>NaN</td>\n",
              "    </tr>\n",
              "    <tr>\n",
              "      <th>2</th>\n",
              "      <td>Tue</td>\n",
              "      <td>12</td>\n",
              "      <td>42</td>\n",
              "      <td>Airtel Broadband - Chennai</td>\n",
              "      <td>71.26</td>\n",
              "      <td>9.71</td>\n",
              "      <td>5.39</td>\n",
              "      <td>1.70</td>\n",
              "      <td>NaN</td>\n",
              "    </tr>\n",
              "    <tr>\n",
              "      <th>3</th>\n",
              "      <td>Tue</td>\n",
              "      <td>12</td>\n",
              "      <td>44</td>\n",
              "      <td>TataSky Broadband Private Limited - Chennai</td>\n",
              "      <td>41.48</td>\n",
              "      <td>20.52</td>\n",
              "      <td>3.24</td>\n",
              "      <td>1.05</td>\n",
              "      <td>0.0</td>\n",
              "    </tr>\n",
              "    <tr>\n",
              "      <th>4</th>\n",
              "      <td>Tue</td>\n",
              "      <td>12</td>\n",
              "      <td>46</td>\n",
              "      <td>NaN</td>\n",
              "      <td>NaN</td>\n",
              "      <td>NaN</td>\n",
              "      <td>NaN</td>\n",
              "      <td>NaN</td>\n",
              "      <td>NaN</td>\n",
              "    </tr>\n",
              "    <tr>\n",
              "      <th>5</th>\n",
              "      <td>Tue</td>\n",
              "      <td>12</td>\n",
              "      <td>48</td>\n",
              "      <td>Cherrinet - K Net Solutions Pvt Ltd - Chennai</td>\n",
              "      <td>78.04</td>\n",
              "      <td>2.55</td>\n",
              "      <td>7.99</td>\n",
              "      <td>NaN</td>\n",
              "      <td>NaN</td>\n",
              "    </tr>\n",
              "    <tr>\n",
              "      <th>6</th>\n",
              "      <td>Tue</td>\n",
              "      <td>12</td>\n",
              "      <td>50</td>\n",
              "      <td>ACT Fibernet - Chennai</td>\n",
              "      <td>42.17</td>\n",
              "      <td>19.01</td>\n",
              "      <td>5.58</td>\n",
              "      <td>1.33</td>\n",
              "      <td>0.0</td>\n",
              "    </tr>\n",
              "  </tbody>\n",
              "</table>\n",
              "</div>"
            ],
            "text/plain": [
              "   Day  Hour  Min  ... Download  Upload  Packet Loss\n",
              "0  Tue    12   38  ...     6.63    1.41          NaN\n",
              "1  Tue    12   40  ...     5.50    1.36          NaN\n",
              "2  Tue    12   42  ...     5.39    1.70          NaN\n",
              "3  Tue    12   44  ...     3.24    1.05          0.0\n",
              "4  Tue    12   46  ...      NaN     NaN          NaN\n",
              "5  Tue    12   48  ...     7.99     NaN          NaN\n",
              "6  Tue    12   50  ...     5.58    1.33          0.0\n",
              "\n",
              "[7 rows x 9 columns]"
            ]
          },
          "metadata": {
            "tags": []
          },
          "execution_count": 5
        }
      ]
    },
    {
      "cell_type": "markdown",
      "metadata": {
        "id": "7A_54EHyVQ8H"
      },
      "source": [
        "## Most Connected Server"
      ]
    },
    {
      "cell_type": "code",
      "metadata": {
        "colab": {
          "base_uri": "https://localhost:8080/"
        },
        "id": "wtBLmykJRgbv",
        "outputId": "a2b01c4c-5691-4d65-d5a8-e8167a70e1e4"
      },
      "source": [
        "print('Number of times each server is connected is as follows:\\n')\n",
        "data['Server'].value_counts()"
      ],
      "execution_count": 6,
      "outputs": [
        {
          "output_type": "stream",
          "text": [
            "Number of times each server is connected is as follows:\n",
            "\n"
          ],
          "name": "stdout"
        },
        {
          "output_type": "execute_result",
          "data": {
            "text/plain": [
              "Airtel Broadband - Chennai                           697\n",
              "Airconnect Fibernet - Chennai                        563\n",
              "Airgenie - Chennai                                   510\n",
              "TataSky Broadband Private Limited - Chennai          406\n",
              "Shyam Spectra - Chennai                              399\n",
              "ACT Fibernet - Chennai                               399\n",
              "Sri Vari Network Private Limited - Chennai           391\n",
              "Cherrinet - K Net Solutions Pvt Ltd - Chennai        375\n",
              "Jio - Chennai                                        329\n",
              "Pulse Telesystems - Chennai                           41\n",
              "Vi India - Chennai                                    34\n",
              "Arjuntelecom - Chennai                                25\n",
              "TATASky Broadband Pvt Ltd - Bangalore                  4\n",
              "Surround Networks Pvt Ltd. - Bengaluru                 3\n",
              "JIFFY CABLE AND DATACOM - Bangalore                    3\n",
              "I-ON - Bengaluru                                       2\n",
              "North East Dataa Network Pvt Ltd - Bangalore           2\n",
              "Airtel Broadband - Bangalore                           2\n",
              "ACT Fibernet - Bangalore                               1\n",
              "Vi India - Benguluru                                   1\n",
              "Alliance Broadband Services Pvt. Ltd. - Bengaluru      1\n",
              "TelexAir Telecom Pvt Ltd - Bangalore                   1\n",
              "Name: Server, dtype: int64"
            ]
          },
          "metadata": {
            "tags": []
          },
          "execution_count": 6
        }
      ]
    },
    {
      "cell_type": "markdown",
      "metadata": {
        "id": "mLfHtfnbTrYa"
      },
      "source": [
        "*   *The most connected server is* **\"Airtel Broadband - Chennai\"**\n",
        "\n"
      ]
    },
    {
      "cell_type": "markdown",
      "metadata": {
        "id": "aBDTK2W0UniB"
      },
      "source": [
        "## Analysis of Network Outages"
      ]
    },
    {
      "cell_type": "code",
      "metadata": {
        "id": "wNnRd4FRxDTR"
      },
      "source": [
        "day_outages={}\n",
        "hour_outages={}"
      ],
      "execution_count": 7,
      "outputs": []
    },
    {
      "cell_type": "code",
      "metadata": {
        "id": "87ASc6fTyhR6"
      },
      "source": [
        "# Initialise the number of outages for each day to \"0\"\n",
        "for day in week_days:\n",
        "  day_outages[day]=0\n",
        "# Initialise the number of outages for each hour to \"0\"\n",
        "for hour in range(24):\n",
        "  hour_outages[hour]=0"
      ],
      "execution_count": 8,
      "outputs": []
    },
    {
      "cell_type": "code",
      "metadata": {
        "id": "-Fua2OCvVEwI"
      },
      "source": [
        "# Count the number of outages for each day, and for each hour\n",
        "for index in range(len(data)):\n",
        "  if data.loc[index].isna().sum()==6:\n",
        "    day_outages[data.loc[index]['Day']]+=1\n",
        "    hour_outages[data.loc[index]['Hour']]+=1"
      ],
      "execution_count": 9,
      "outputs": []
    },
    {
      "cell_type": "markdown",
      "metadata": {
        "id": "s4yAUkVfNgBI"
      },
      "source": [
        "##### Plot Network Outages on each day"
      ]
    },
    {
      "cell_type": "code",
      "metadata": {
        "colab": {
          "base_uri": "https://localhost:8080/"
        },
        "id": "D9_Ak7Ew45IA",
        "outputId": "d88b78d4-f1ab-4f9a-de04-a67010c92467"
      },
      "source": [
        "# Sort day_outages in descending order\n",
        "# Here, lambda function accepts a key-value pair as an argument and returns the value field from that pair\n",
        "print(sorted(day_outages.items(),key=lambda item:item[1],reverse=True))\n",
        "# List of tuples, where each tuple corresponds to (day,no of outages)"
      ],
      "execution_count": 11,
      "outputs": [
        {
          "output_type": "stream",
          "text": [
            "[('Tue', 197), ('Sat', 172), ('Wed', 154), ('Fri', 109), ('Mon', 44), ('Sun', 4), ('Thu', 0)]\n"
          ],
          "name": "stdout"
        }
      ]
    },
    {
      "cell_type": "code",
      "metadata": {
        "colab": {
          "base_uri": "https://localhost:8080/",
          "height": 318
        },
        "id": "6iiaAQrcwlHj",
        "outputId": "93b3738c-13a5-4645-eb6d-124bfbdc5695"
      },
      "source": [
        "# Sort day_outages in ascending order\n",
        "day,day_outage = zip(*sorted(day_outages.items(),key=lambda item:item[1]))\n",
        "# Plotting the no of outages on each day\n",
        "plt.plot(day, day_outage, color='green', linestyle='dashed', linewidth = 1.5, marker='o', markerfacecolor='olive', markersize=8)\n",
        "# Naming the x and y axes\n",
        "plt.xlabel('Day',labelpad=10,fontsize='large')\n",
        "plt.ylabel('No of Outages',labelpad=10,fontsize='large')\n",
        "plt.title('Network Outages on each day',pad=20,fontweight='bold')\n",
        "plt.show()"
      ],
      "execution_count": 67,
      "outputs": [
        {
          "output_type": "display_data",
          "data": {
            "image/png": "[encoded data removed]",
            "text/plain": [
              "<Figure size 432x288 with 1 Axes>"
            ]
          },
          "metadata": {
            "tags": [],
            "needs_background": "light"
          }
        }
      ]
    },
    {
      "cell_type": "markdown",
      "metadata": {
        "id": "Q5sQOjBGsMgi"
      },
      "source": [
        "\n",
        "\n",
        "*   **\"Tuesday\"** had the most network outages\n",
        "*   **\"Thursday\"** had the least network outages"
      ]
    },
    {
      "cell_type": "markdown",
      "metadata": {
        "id": "Ejz0VGdpOAQz"
      },
      "source": [
        "##### Plot Network Outages for each hour"
      ]
    },
    {
      "cell_type": "code",
      "metadata": {
        "colab": {
          "base_uri": "https://localhost:8080/"
        },
        "id": "VgTT0-Cr15np",
        "outputId": "baf0c68a-736f-4b73-fcff-b68839410137"
      },
      "source": [
        "# Sort hour_outages in descending order\n",
        "print(sorted(hour_outages.items(),key=lambda item:item[1],reverse=True))\n",
        "# List of tuples, where each tuple corresponds to (hour,no of outages)"
      ],
      "execution_count": 23,
      "outputs": [
        {
          "output_type": "stream",
          "text": [
            "[(8, 127), (6, 121), (5, 120), (7, 120), (4, 104), (9, 36), (14, 25), (3, 14), (13, 4), (10, 2), (21, 2), (12, 1), (15, 1), (17, 1), (19, 1), (22, 1), (0, 0), (1, 0), (2, 0), (11, 0), (16, 0), (18, 0), (20, 0), (23, 0)]\n"
          ],
          "name": "stdout"
        }
      ]
    },
    {
      "cell_type": "code",
      "metadata": {
        "colab": {
          "base_uri": "https://localhost:8080/",
          "height": 373
        },
        "id": "p_jKayPrDWYB",
        "outputId": "3dd7fc16-be7e-4150-cca0-e2c9653db0a5"
      },
      "source": [
        "fig = plt.figure(figsize =(20, 5)) \n",
        "plt.bar(hour_outages.keys(), hour_outages.values())\n",
        "plt.xticks(range(24))\n",
        "plt.xlabel('Hour',labelpad=10,fontsize='large')\n",
        "plt.ylabel('No of Outages',labelpad=10,fontsize='large')\n",
        "plt.title('Network Outages for each hour',pad=20,fontweight='bold')\n",
        "plt.show()"
      ],
      "execution_count": 93,
      "outputs": [
        {
          "output_type": "display_data",
          "data": {
            "image/png": "[encoded data removed]",
            "text/plain": [
              "<Figure size 1440x360 with 1 Axes>"
            ]
          },
          "metadata": {
            "tags": [],
            "needs_background": "light"
          }
        }
      ]
    },
    {
      "cell_type": "markdown",
      "metadata": {
        "id": "SJOLkUuqOOhd"
      },
      "source": [
        "\n",
        "*   **08:00** had the most network outages\n",
        "*   **00:00, 01:00, 02:00, 11:00, 16:00, 18:00, 20:00, 23:00** had the least network outages"
      ]
    }
  ]
}